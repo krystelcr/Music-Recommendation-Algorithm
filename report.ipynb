{
 "cells": [
  {
   "cell_type": "markdown",
   "metadata": {},
   "source": [
    "## Report"
   ]
  },
  {
   "cell_type": "markdown",
   "metadata": {},
   "source": [
    "Which insights did you gain from your EDA? Were any columns highly correlated? If so, name them.\n",
    "eda helped decide what to drop, and realtionships between genre, topics, any lyrical scorces. \n",
    "- sadness, violence, world/life, and obscene dominate the dataset (prevalent themes in lyrics)\n",
    "- pop is the most represented genre, reggae and hip hop are the least represented\n",
    "- songs follow the same length for the most part despite genre or topic (songs with obscence content tend to be slightly longer)\n",
    "- age and release date are inversely correlated\n",
    "- hip hop and reggae are newer, expalins why there are less song, and whiy distubtions arent fully normalized\n",
    "- age and the number of words in songs had a strong negative correlation\n",
    "- Johnny Cash and Ella Fitzgerald had the most songs, showing how genre data could be skewed because of a few artist\n",
    "- most artist fall only under one genre and could be difined by it\n",
    "- hip hop has lots of obscence content\n",
    "- feelings is consistently low across all genres \n",
    "- violence, sadness, and world/life are most prominent \n",
    "- lyrical scores and topic label have strong correlation with self-reinforcing topics and lyric classfications\n",
    "- topic and genre strongly correlate with certain lyrical features\n",
    "\n",
    "\n",
    "How did you determine which columns to drop or keep? If your EDA informed this process, explain which insights you used to determine which columns were not needed. \n",
    "i ended up dropping all non numerical columns, that where normalized; however thanks to eda i felt confident about this choice.\n",
    "- dropped unnamed: 0 because it was an index placeholder\n",
    "- dropped track_name and lyrics dropped because lyrics had already been evaluated\n",
    "- release_date & age column where the same, but age was normalized, release_date got dropped \n",
    "- artist could be encompassed by genre; genre and topic could encompass each other; and kept all the lyrical scores because genre and topic where encompassed in them \n",
    "- len was ultimately dropped because despite a realtionshape with age words in a song by genre didnt hold up the realtionship\n",
    "\n",
    "\n",
    "What was the optimal number of clusters in your cluster model? Explain how you determined this value.\n",
    "Using both the Elbow Method and Silhouette Score, i determined the optimal number of clusters to be 12. 12 had the highest Silhouette Score, and the Elbow Method showed slight diminishing returns 12\n",
    "\n",
    "\n",
    "Take a look at the respective songs that fell into your clusters. Describe these clusters in human terms to the best of your ability using the columns in your dataset (for example high-gospel songs, low-gospel songs, etc). Feel free to listen to these songs as well to get a sense of what nuance your algorithm picked up on.\n",
    "- Cluster 1: emotionally heavy, older tracks with themes of violence and sorrow. \n",
    "- Cluster 2: more recent tracks dealing with sadness and emotional expression\n",
    "- Cluster 3: older love songs \n",
    "- Cluster 4: newer tracks that are lyrically explicit and energetic\n",
    "- Cluster 5: no dominant characteristics, tracks could serve a general-purpose being filler and ambient songs \n",
    "- Cluster 6: emotional and songs about life’s emotional burdens\n",
    "- Cluster 7: newer, aggressive tracks, likely including hype or fight music\n",
    "- Cluster 8: modern songs reflecting on life experiences with a thoughtful tone. \n",
    "- Cluster 9: late-night listening of emotional songs about time, relationships, and introspection\n",
    "- Cluster 10: older artistic tracks that blend musical themes with vivid imagery\n",
    "- Cluster 11: older songs about broader life likely reflecting on society or personal growth\n",
    "- Cluster 12: older explicit songs that were provocative \n",
    "\n",
    "Take a look at the clusters that your algorithm assigned to your test samples. Based on these clusters, which songs would you recommend to this user?\n",
    "\n",
    "- Cluster 1: \n",
    "Standout artists/tracks: Bibio – \"Lovers’ Carvings\", Sweet Trip – \"Dsco\", Radiohead – \"There, There\"\n",
    "- Cluster 2: George Strait – \"When Did You Stop Loving Me\", Louis Armstrong – \"All of Me\", The Platters – \"Enchanted\"\n",
    "- Cluster 5: joe Walsh – \"Memory Lane\", Dave Mason – \"We Just Disagree\", Lata Mangeshkar – \"Kabhi Khamosh Rahte Hain\"\n",
    "- Cluster 9: Elvis Presley – \"Jailhouse Rock\", Frank Zappa – \"Montana\", the Sweet Inspirations – \"I'm Blue\"\n",
    "- Cluster 10: Prince – \"Pop Life\", Ella Fitzgerald – \"Why Can't You Behave?\", Oingo Boingo – \"Perfect System\"\n"
   ]
  }
 ],
 "metadata": {
  "language_info": {
   "name": "python"
  }
 },
 "nbformat": 4,
 "nbformat_minor": 2
}
