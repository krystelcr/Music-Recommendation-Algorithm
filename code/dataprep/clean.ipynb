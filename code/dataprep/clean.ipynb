{
 "cells": [
  {
   "cell_type": "code",
   "execution_count": 1,
   "metadata": {},
   "outputs": [],
   "source": [
    "import pandas as pd\n",
    "from sklearn.preprocessing import StandardScaler"
   ]
  },
  {
   "cell_type": "code",
   "execution_count": 2,
   "metadata": {},
   "outputs": [],
   "source": [
    "df = pd.read_csv(\"/Users/sa2/Desktop/TKH/Music-Recommendation-Algorithm/train.csv\")"
   ]
  },
  {
   "cell_type": "code",
   "execution_count": null,
   "metadata": {},
   "outputs": [],
   "source": [
    "df = df.drop(columns=['nameOrig','nameDest', 'isFlaggedFraud'])\n",
    "df"
   ]
  },
  {
   "cell_type": "markdown",
   "metadata": {},
   "source": [
    "\n",
    "df.drop(columns=['age'], inplace=True) khvkugkugkugkugvkycdjtdshrdygbjoiyy\n",
    "\n",
    "Drop lyrics column for now.\n",
    "Drop high-correlation columns (e.g., either age or release_year).\n",
    "Convert categorical columns if needed (e.g., genre with OneHotEncoder if applicable).\n",
    "Normalize or scale numeric values (StandardScaler or MinMaxScaler).\n",
    "Handle nulls (drop or impute).\n",
    "Save this cleaned version as cleaned_songs.csv."
   ]
  }
 ],
 "metadata": {
  "kernelspec": {
   "display_name": "base",
   "language": "python",
   "name": "python3"
  },
  "language_info": {
   "codemirror_mode": {
    "name": "ipython",
    "version": 3
   },
   "file_extension": ".py",
   "mimetype": "text/x-python",
   "name": "python",
   "nbconvert_exporter": "python",
   "pygments_lexer": "ipython3",
   "version": "3.12.4"
  }
 },
 "nbformat": 4,
 "nbformat_minor": 2
}
